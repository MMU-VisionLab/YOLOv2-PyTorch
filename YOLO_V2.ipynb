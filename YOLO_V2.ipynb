{
 "cells": [
  {
   "cell_type": "code",
   "execution_count": 1,
   "metadata": {},
   "outputs": [],
   "source": [
    "import numpy as np\n",
    "from tqdm import tqdm\n",
    "from skimage import io, transform\n",
    "import matplotlib.pyplot as plt\n",
    "from sklearn.model_selection import train_test_split\n",
    "from torch.utils.data import Dataset, DataLoader\n",
    "from torchvision import transforms, utils\n",
    "import torch\n",
    "from torch.autograd import Variable\n",
    "import torch.nn as NN\n",
    "from torch.optim import Adam, SGD\n",
    "import time\n",
    "import glob\n",
    "import xmltodict\n",
    "import cv2"
   ]
  },
  {
   "cell_type": "code",
   "execution_count": 2,
   "metadata": {},
   "outputs": [],
   "source": [
    "data_images_path     = '../VOCdevkit/VOC2012/JPEGImages'\n",
    "data_annotation_path = '../VOCdevkit/VOC2012/Annotations'\n",
    "trained_model_path = './trained_model/'\n",
    "image_sizes = [320,352,384,416,448,480,512,544,570,608]\n",
    "image_height = image_sizes[0]\n",
    "image_width = image_sizes[0]\n",
    "image_depth  = 3"
   ]
  },
  {
   "cell_type": "code",
   "execution_count": 3,
   "metadata": {},
   "outputs": [],
   "source": [
    "#Get the image and annotation file paths\n",
    "list_images      = sorted([x for x in glob.glob(data_images_path + '/**')])     #length : 17125\n",
    "list_annotations = sorted([x for x in glob.glob(data_annotation_path + '/**')]) #length : 17125\n",
    "total_images = len(list_images)"
   ]
  },
  {
   "cell_type": "code",
   "execution_count": 4,
   "metadata": {},
   "outputs": [],
   "source": [
    "def get_classes(xml_files=list_annotations):\n",
    "    '''\n",
    "    Output: All the distinct classes for this dataset.\n",
    "    \n",
    "    '''\n",
    "    classes = []\n",
    "    \n",
    "    for file in xml_files: \n",
    "\n",
    "        f = open(file)\n",
    "        doc = xmltodict.parse(f.read()) #parse the xml file to python dict.\n",
    "\n",
    "        #Images in the dataset might contain either 1 object or more than 1 object. For images with 1 object, the annotation for the object\n",
    "        #in the xml file will be located in 'annotation' -> 'object' -> 'name'. For images with more than 1 object, the annotations for the objects\n",
    "        #will be nested in 'annotation' -> 'object' thus requiring a loop to iterate through them. (Pascal VOC format)\n",
    "\n",
    "        try: \n",
    "            #try iterating through the tag. (For images with more than 1 obj.)\n",
    "            for obj in doc['annotation']['object']:\n",
    "                classes.append(obj['name'].lower()) #append the lowercased string.\n",
    "\n",
    "        except TypeError as e: #iterating through non-nested tags would throw a TypeError.\n",
    "            classes.append(doc['annotation']['object']['name'].lower()) #append the lowercased string.\n",
    "\n",
    "        f.close()\n",
    "\n",
    "    classes = list(set(classes)) #remove duplicates.\n",
    "    classes.sort()\n",
    "\n",
    "    #returns a list containing the names of classes after being sorted.\n",
    "    return classes"
   ]
  },
  {
   "cell_type": "code",
   "execution_count": 5,
   "metadata": {},
   "outputs": [],
   "source": [
    "classes = get_classes()\n",
    "num_of_class = len(classes)\n",
    "excluded_classes = []"
   ]
  },
  {
   "cell_type": "code",
   "execution_count": 6,
   "metadata": {},
   "outputs": [],
   "source": [
    "def get_classes(xml_files=list_annotations):\n",
    "    '''\n",
    "    Output: All the distinct classes for this dataset.\n",
    "    \n",
    "    '''\n",
    "    classes = []\n",
    "    \n",
    "    for file in xml_files: \n",
    "\n",
    "        f = open(file)\n",
    "        doc = xmltodict.parse(f.read()) #parse the xml file to python dict.\n",
    "\n",
    "        #Images in the dataset might contain either 1 object or more than 1 object. For images with 1 object, the annotation for the object\n",
    "        #in the xml file will be located in 'annotation' -> 'object' -> 'name'. For images with more than 1 object, the annotations for the objects\n",
    "        #will be nested in 'annotation' -> 'object' thus requiring a loop to iterate through them. (Pascal VOC format)\n",
    "\n",
    "        try: \n",
    "            #try iterating through the tag. (For images with more than 1 obj.)\n",
    "            for obj in doc['annotation']['object']:\n",
    "                classes.append(obj['name'].lower()) #append the lowercased string.\n",
    "\n",
    "        except TypeError as e: #iterating through non-nested tags would throw a TypeError.\n",
    "            classes.append(doc['annotation']['object']['name'].lower()) #append the lowercased string.\n",
    "\n",
    "        f.close()\n",
    "\n",
    "    classes = list(set(classes)) #remove duplicates.\n",
    "    classes.sort()\n",
    "\n",
    "    #returns a list containing the names of classes after being sorted.\n",
    "    return classes"
   ]
  },
  {
   "cell_type": "code",
   "execution_count": 7,
   "metadata": {},
   "outputs": [],
   "source": [
    "def get_labels_from_xml(xml_file_path, num_of_class = num_of_class):\n",
    "    '''\n",
    "    Input : A SINGLE xml file and the total number of classes in the dataset. \n",
    "    Output: Labels in numpy array format (Object classes their corresponding bounding box coordinates).\n",
    "\n",
    "    Desc : This function parses a single xml file and outputs the objects classes and their corresponding bounding box coordinates\n",
    "           [top-left-x, top-left-y, btm-right-x, btm-right-y] on the resized image.\n",
    "\n",
    "    '''\n",
    "\n",
    "    f = open(xml_file_path)\n",
    "    doc = xmltodict.parse(f.read()) #parse the xml file to python dict.\n",
    "\n",
    "    #get the original image height and width. Images have different height and width from each other.\n",
    "    ori_img_height = float(doc['annotation']['size']['height'])\n",
    "    ori_img_width  = float(doc['annotation']['size']['width'])\n",
    "\n",
    "\n",
    "    class_label = [] #init for keeping track objects' labels.\n",
    "    bbox_label  = [] #init for keeping track of objects' bounding box (bb).\n",
    "\n",
    "\n",
    "    #Images in the dataset might contain either 1 object or more than 1 object. For images with 1 object, the annotation for the object\n",
    "    #in the xml file will be located in 'annotation' -> 'object' -> 'name'. For images with more than 1 object, the annotations for the objects\n",
    "    #will be nested in 'annotation' -> 'object' thus requiring a loop to iterate through them. (Pascal VOC format)\n",
    "    try:\n",
    "        #Try iterating through the tag (For images with more than 1 obj).\n",
    "        for each_obj in doc['annotation']['object']:\n",
    "            \n",
    "            obj_class = each_obj['name'].lower() #get the label for the object and lowercase the string.\n",
    "            \n",
    "            if obj_class in excluded_classes:\n",
    "                continue\n",
    "\n",
    "            #Pascal VOC's format to denote bounding boxes are to denote the top left part of the box and the bottom right of the box.\n",
    "            #the coordinates are in terms of x and y axis for both part of the box.\n",
    "            x_min = float(each_obj['bndbox']['xmin']) #top left x-axis coordinate.\n",
    "            x_max = float(each_obj['bndbox']['xmax']) #bottom right x-axis coordinate.\n",
    "            y_min = float(each_obj['bndbox']['ymin']) #top left y-axis coordinate.\n",
    "            y_max = float(each_obj['bndbox']['ymax']) #bottom right y-axis coordinate.\n",
    "\n",
    "        ##################################################################################\n",
    "        #We want to make sure the coordinates are resized according to the resized image.#\n",
    "        ##################################################################################\n",
    "\n",
    "            #All the images will be resized to a fixed size in order to be fixed-size inputs to the neural network model.\n",
    "            #Therefore, we need to resize the coordinates as well since the coordinates above is based on the original size of the images.\n",
    "\n",
    "            #In order to find the resized coordinates, we must multiply the ratio of the resized image compared to its original to the coordinates.\n",
    "            x_min = float((image_width/ori_img_width)*x_min)\n",
    "            y_min = float((image_height/ori_img_height)*y_min)\n",
    "            x_max = float((image_width/ori_img_width)*x_max)\n",
    "            y_max = float((image_height/ori_img_height)*y_max)\n",
    "            \n",
    "\n",
    "            generated_box_info = [x_min, y_min, x_max, y_max]\n",
    "\n",
    "\n",
    "            index = classes.index(obj_class) #get the index of the object's class.\n",
    "\n",
    "            #append each object's class label and the bounding box label (converted to Faster R-CNN format) into the list initialized earlier.\n",
    "            class_label.append(index)\n",
    "            bbox_label.append(np.asarray(generated_box_info, dtype='float32'))\n",
    "\n",
    "    except TypeError as e : #happens when the iteration through the tag fails due to only 1 object being in the image.\n",
    "\n",
    "        #SAME PROCEDURE AS ABOVE !  \n",
    "\n",
    "        #Getting these information from the XML file differs compared to above,\n",
    "        obj_class = doc['annotation']['object']['name']\n",
    "        \n",
    "        if not obj_class in excluded_classes:\n",
    "                        \n",
    "            x_min = float(doc['annotation']['object']['bndbox']['xmin']) \n",
    "            x_max = float(doc['annotation']['object']['bndbox']['xmax']) \n",
    "            y_min = float(doc['annotation']['object']['bndbox']['ymin']) \n",
    "            y_max = float(doc['annotation']['object']['bndbox']['ymax']) \n",
    "\n",
    "            x_min = float((image_width/ori_img_width)*x_min)\n",
    "            y_min = float((image_height/ori_img_height)*y_min)\n",
    "            x_max = float((image_width/ori_img_width)*x_max)\n",
    "            y_max = float((image_height/ori_img_height)*y_max)\n",
    "\n",
    "            generated_box_info = [x_min, y_min, x_max, y_max]\n",
    "\n",
    "            #Get the index of the class\n",
    "            index = classes.index(obj_class) \n",
    "\n",
    "            class_label.append(index)\n",
    "            bbox_label.append(np.asarray(generated_box_info, dtype='float32'))\n",
    "\n",
    "\n",
    "    return class_label, np.asarray(bbox_label)"
   ]
  },
  {
   "cell_type": "code",
   "execution_count": 8,
   "metadata": {},
   "outputs": [],
   "source": [
    "class K_Means:\n",
    "    \n",
    "    \n",
    "    def __init__(self, k, boxes):\n",
    "        \n",
    "        self.k = k\n",
    "        self.boxes = boxes\n",
    "        self.rows = self.boxes.shape[0]\n",
    "        self.distances = np.empty((self.rows, self.k))\n",
    "        self.last_centroids = np.zeros((self.rows,))\n",
    "        \n",
    "        self.boxes = self.process_boxes(self.boxes)\n",
    "        self.centroids = []\n",
    "        for i in range(self.k):\n",
    "            self.centroids.append(self.boxes[i,:])\n",
    "        \n",
    "        self.centroids = np.asarray(self.centroids, dtype=np.float32)\n",
    "        \n",
    "    def process_boxes(self, boxes):\n",
    "        \n",
    "        new_boxes = boxes.copy()\n",
    "        for row in range(self.rows):\n",
    "#             width = np.abs(new_boxes[row][2] - new_boxes[row][0])\n",
    "#             height = np.abs(new_boxes[row][3] - new_boxes[row][1])\n",
    "            \n",
    "#             new_boxes[row][0] = new_boxes[row][0] / width\n",
    "#             new_boxes[row][1] = new_boxes[row][1] / height\n",
    "#             new_boxes[row][2] = new_boxes[row][2] / width\n",
    "#             new_boxes[row][3] = new_boxes[row][3] / height\n",
    "            \n",
    "            new_boxes[row][2] = np.abs(new_boxes[row][2] - new_boxes[row][0])\n",
    "            new_boxes[row][3] = np.abs(new_boxes[row][3] - new_boxes[row][1])\n",
    "        \n",
    "        return np.delete(new_boxes, [0,1], axis=1)\n",
    "    \n",
    "    def iou(self, box, centroids):\n",
    "        \n",
    "        x = np.minimum(centroids[:, 0], box[0])\n",
    "        y = np.minimum(centroids[:, 1], box[1])\n",
    "        \n",
    "        if np.count_nonzero(x == 0) > 0 or np.count_nonzero(y == 0) > 0:\n",
    "            raise ValueError(\"The given box has no area!\")\n",
    "        \n",
    "        intersection_area = x * y\n",
    "        box_area = box[0] * box[1]\n",
    "        centroid_area = centroids[:, 0] * centroids[:, 1]\n",
    "        \n",
    "        IoUs = intersection_area / (box_area + centroid_area - intersection_area)\n",
    "        \n",
    "        return IoUs\n",
    "    \n",
    "    def __call__(self):\n",
    "        \n",
    "        \n",
    "        while True:\n",
    "            \n",
    "            for row in range(self.rows):\n",
    "                self.distances[row] = 1 - self.iou(self.boxes[row], self.centroids)\n",
    "            \n",
    "            nearest_centroids = np.argmin(self.distances, axis=1)\n",
    "            \n",
    "            if (self.last_centroids == nearest_centroids).all():\n",
    "                break\n",
    "            \n",
    "            for cluster in range(self.k):\n",
    "                self.centroids[cluster] = np.mean(self.boxes[nearest_centroids == cluster], axis=0)\n",
    "                \n",
    "            self.last_centroids = nearest_centroids\n",
    "        \n",
    "        return self.centroids"
   ]
  },
  {
   "cell_type": "code",
   "execution_count": 9,
   "metadata": {},
   "outputs": [
    {
     "data": {
      "text/plain": [
       "40138"
      ]
     },
     "execution_count": 9,
     "metadata": {},
     "output_type": "execute_result"
    }
   ],
   "source": [
    "gt_boxes_array = []\n",
    "for i in range(total_images):\n",
    "    \n",
    "    true_labels, gt_boxes = get_labels_from_xml(xml_file_path=list_annotations[i])\n",
    "    if len(gt_boxes) == 1:\n",
    "        \n",
    "        gt_boxes_array.append(np.asarray(gt_boxes[0], dtype=np.float32))\n",
    "    else:\n",
    "        for i in range(len(gt_boxes)):\n",
    "            gt_boxes_array.append(np.asarray(gt_boxes[i], dtype=np.float32))\n",
    "\n",
    "len(gt_boxes_array)"
   ]
  },
  {
   "cell_type": "code",
   "execution_count": 10,
   "metadata": {},
   "outputs": [],
   "source": [
    "gt_boxes_array = np.asarray(gt_boxes_array)"
   ]
  },
  {
   "cell_type": "code",
   "execution_count": 11,
   "metadata": {},
   "outputs": [],
   "source": [
    "kmeans = K_Means(k=5, boxes=gt_boxes_array)"
   ]
  },
  {
   "cell_type": "code",
   "execution_count": 12,
   "metadata": {},
   "outputs": [],
   "source": [
    "n = kmeans()"
   ]
  },
  {
   "cell_type": "code",
   "execution_count": 13,
   "metadata": {},
   "outputs": [],
   "source": [
    "n = n"
   ]
  },
  {
   "cell_type": "code",
   "execution_count": 14,
   "metadata": {},
   "outputs": [
    {
     "data": {
      "text/plain": [
       "array([[[0., 0., 0.],\n",
       "        [0., 0., 0.],\n",
       "        [0., 0., 0.],\n",
       "        ...,\n",
       "        [0., 0., 0.],\n",
       "        [0., 0., 0.],\n",
       "        [0., 0., 0.]],\n",
       "\n",
       "       [[0., 0., 0.],\n",
       "        [0., 0., 0.],\n",
       "        [0., 0., 0.],\n",
       "        ...,\n",
       "        [0., 0., 0.],\n",
       "        [0., 0., 0.],\n",
       "        [0., 0., 0.]],\n",
       "\n",
       "       [[0., 0., 0.],\n",
       "        [0., 0., 0.],\n",
       "        [0., 0., 0.],\n",
       "        ...,\n",
       "        [0., 0., 0.],\n",
       "        [0., 0., 0.],\n",
       "        [0., 0., 0.]],\n",
       "\n",
       "       ...,\n",
       "\n",
       "       [[0., 0., 0.],\n",
       "        [0., 0., 0.],\n",
       "        [0., 0., 0.],\n",
       "        ...,\n",
       "        [0., 0., 0.],\n",
       "        [0., 0., 0.],\n",
       "        [0., 0., 0.]],\n",
       "\n",
       "       [[0., 0., 0.],\n",
       "        [0., 0., 0.],\n",
       "        [0., 0., 0.],\n",
       "        ...,\n",
       "        [0., 0., 0.],\n",
       "        [0., 0., 0.],\n",
       "        [0., 0., 0.]],\n",
       "\n",
       "       [[0., 0., 0.],\n",
       "        [0., 0., 0.],\n",
       "        [0., 0., 0.],\n",
       "        ...,\n",
       "        [0., 0., 0.],\n",
       "        [0., 0., 0.],\n",
       "        [0., 0., 0.]]])"
      ]
     },
     "execution_count": 14,
     "metadata": {},
     "output_type": "execute_result"
    }
   ],
   "source": [
    "img = np.zeros((320,320,3))\n",
    "cv2.rectangle(img, (4,4), (int(n[0][0])+4,int(n[0][1])+4), (255,255,255), 2)\n",
    "cv2.rectangle(img, (4,4), (int(n[1][0])+4,int(n[1][1])+4),  (255,255,0), 2)\n",
    "cv2.rectangle(img, (4,4), (int(n[2][0])+4,int(n[2][1])+4),  (0,0,255), 2)\n",
    "cv2.rectangle(img, (4,4), (int(n[3][0])+4,int(n[3][1])+4),  (255,0,0), 2)\n",
    "cv2.rectangle(img, (4,4), (int(n[4][0])+4,int(n[4][1])+4),  (100,0,50), 2)"
   ]
  },
  {
   "cell_type": "code",
   "execution_count": 15,
   "metadata": {},
   "outputs": [
    {
     "data": {
      "image/png": "[encoded data removed]",
      "text/plain": [
       "<Figure size 432x288 with 1 Axes>"
      ]
     },
     "metadata": {
      "needs_background": "light"
     },
     "output_type": "display_data"
    }
   ],
   "source": [
    "plt.imshow(cv2.flip(img.astype(np.uint8),0))\n",
    "plt.show()"
   ]
  },
  {
   "cell_type": "code",
   "execution_count": 16,
   "metadata": {},
   "outputs": [
    {
     "name": "stdout",
     "output_type": "stream",
     "text": [
      "[[38 75]\n",
      " [18 24]\n",
      " [49 92]\n",
      " [29 74]\n",
      " [76 36]\n",
      " [59 27]\n",
      " [67 28]\n",
      " [13 24]\n",
      " [ 3 27]\n",
      " [47 80]] [24.5]\n"
     ]
    }
   ],
   "source": [
    "a = np.random.randint(100,size=(10,2))\n",
    "b = np.asarray([24.5])\n",
    "print(a,b)"
   ]
  },
  {
   "cell_type": "code",
   "execution_count": 17,
   "metadata": {},
   "outputs": [
    {
     "data": {
      "text/plain": [
       "array([24.5, 24. , 24.5, 24.5, 24.5, 24.5, 24.5, 24. , 24.5, 24.5])"
      ]
     },
     "execution_count": 17,
     "metadata": {},
     "output_type": "execute_result"
    }
   ],
   "source": [
    "np.minimum(a[:,1], b)"
   ]
  },
  {
   "cell_type": "code",
   "execution_count": null,
   "metadata": {},
   "outputs": [],
   "source": []
  }
 ],
 "metadata": {
  "kernelspec": {
   "display_name": "Python 3",
   "language": "python",
   "name": "python3"
  },
  "language_info": {
   "codemirror_mode": {
    "name": "ipython",
    "version": 3
   },
   "file_extension": ".py",
   "mimetype": "text/x-python",
   "name": "python",
   "nbconvert_exporter": "python",
   "pygments_lexer": "ipython3",
   "version": "3.6.10"
  }
 },
 "nbformat": 4,
 "nbformat_minor": 4
}
